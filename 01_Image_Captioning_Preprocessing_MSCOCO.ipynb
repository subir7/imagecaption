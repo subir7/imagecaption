{
  "nbformat": 4,
  "nbformat_minor": 0,
  "metadata": {
    "colab": {
      "provenance": [],
      "collapsed_sections": []
    },
    "kernelspec": {
      "name": "python3",
      "display_name": "Python 3"
    },
    "language_info": {
      "name": "python"
    }
  },
  "cells": [
    {
      "cell_type": "code",
      "execution_count": 8,
      "metadata": {
        "colab": {
          "base_uri": "https://localhost:8080/"
        },
        "id": "jPlj9UWjjy-i",
        "outputId": "c50b3ef9-3674-4647-bc9c-2dfd9eb2cbc4"
      },
      "outputs": [
        {
          "output_type": "stream",
          "name": "stdout",
          "text": [
            "Mounted at /content/drive\n"
          ]
        }
      ],
      "source": [
        "from google.colab import drive\n",
        "drive.mount('/content/drive', force_remount=True)"
      ]
    },
    {
      "cell_type": "code",
      "source": [
        "!unzip \"/content/drive/MyDrive/MSCOCO/captions.zip\" -d \"/content\"\n",
        "!unzip \"/content/drive/MyDrive/MSCOCO/test2017.zip\" -d \"/content\"\n",
        "!unzip \"/content/drive/MyDrive/MSCOCO/train2017.zip\" -d \"/content\"\n",
        "!unzip \"/content/drive/MyDrive/MSCOCO/val2017.zip\" -d \"/content\""
      ],
      "metadata": {
        "id": "F--E6QSFkbpF"
      },
      "execution_count": null,
      "outputs": []
    },
    {
      "cell_type": "code",
      "source": [
        "!du -sh \"/content/annotations\"\n",
        "!du -sh \"/content/test2017\"\n",
        "!du -sh \"/content/train2017\"\n",
        "!du -sh \"/content/val2017\""
      ],
      "metadata": {
        "colab": {
          "base_uri": "https://localhost:8080/"
        },
        "id": "pSf1d2Ccm72r",
        "outputId": "1e64a98b-beae-4c25-ed76-daf753a8cfec"
      },
      "execution_count": 3,
      "outputs": [
        {
          "output_type": "stream",
          "name": "stdout",
          "text": [
            "796M\t/content/annotations\n",
            "6.3G\t/content/test2017\n",
            "19G\t/content/train2017\n",
            "788M\t/content/val2017\n"
          ]
        }
      ]
    },
    {
      "cell_type": "code",
      "source": [
        "\"\"\" \n",
        "MSCOCO 2017 dataset preprocessing for image captioning.\n",
        "\"\"\"\n",
        "\n",
        "import os\n",
        "import json\n",
        "import pickle\n",
        "import argparse\n",
        "\n",
        "\n",
        "def get_categories(categories_file):\n",
        "    \"\"\" Group categories by image\n",
        "    \"\"\"\n",
        "    # map each category id to its name\n",
        "    id_to_category = {}\n",
        "    for category in categories_file['categories']:\n",
        "        id_to_category[category['id']] = category['name']\n",
        "\n",
        "    image_categories = {}\n",
        "    for category in categories_file['annotations']:\n",
        "        if category['image_id'] not in image_categories:\n",
        "            image_categories[category['image_id']] = []\n",
        "        if id_to_category[category['category_id']] not in image_categories[category['image_id']]:\n",
        "            image_categories[category['image_id']].append(id_to_category[category['category_id']])\n",
        "    return image_categories\n",
        "\n",
        "\n",
        "def get_captions(captions):\n",
        "    \"\"\" Group captions by image \"\"\"\n",
        "    image_captions = {}\n",
        "    for caption in captions:\n",
        "        img_id = caption['image_id']\n",
        "        if not img_id in image_captions:\n",
        "            image_captions[img_id] = []\n",
        "        parsed_caption = caption['caption'].strip()\n",
        "        parsed_caption = ''.join(parsed_caption.split('\\n'))  # remove '\\n' from the end of the caption\n",
        "        image_captions[img_id].append(parsed_caption)\n",
        "    return image_captions\n",
        "\n",
        "\n",
        "def get_filename(images):\n",
        "    \"\"\" Get filename of each image \"\"\"\n",
        "    image_file = {}\n",
        "    for image in images:\n",
        "        image_file[image['id']] = os.path.join(image['coco_url'].split('/')[-2], image['file_name'])\n",
        "    return image_file\n",
        "\n",
        "\n",
        "def group_supercategories(categories):\n",
        "    \"\"\" Group supercategories by categories\n",
        "    \"\"\"\n",
        "    cat_to_super = {}\n",
        "    for category in categories:\n",
        "        cat_to_super[category['name']] = category['supercategory']\n",
        "    return cat_to_super\n",
        "\n",
        "\n",
        "def get_supercategories(image_categories, cat_to_super):\n",
        "    \"\"\" Group supercategories by image \"\"\"\n",
        "    image_supercategories = {}\n",
        "    for image in image_categories:\n",
        "        image_supercategories[image] = list(set([cat_to_super[x] for x in image_categories[image]]))\n",
        "    return image_supercategories\n",
        "\n",
        "\n",
        "def parse_data(dataset_type, root_dir):\n",
        "    images_data = {}\n",
        "\n",
        "    # load instances\n",
        "    print('Loading instances...')\n",
        "    categories_file = json.load(open('{}/annotations/instances_{}2017.json'.format(root_dir, dataset_type), 'r'))\n",
        "    print('=============================================')\n",
        "\n",
        "    # group categories by image\n",
        "    image_categories = get_categories(categories_file)\n",
        "\n",
        "    # load annotations\n",
        "    del categories_file  # free memory\n",
        "    print('Loading annotations...')\n",
        "    captions_file = json.load(open('{}/annotations/captions_{}2017.json'.format(root_dir, dataset_type), 'r'))\n",
        "    print('=============================================')\n",
        "\n",
        "    # group captions by image\n",
        "    image_captions = get_captions(captions_file['annotations'])\n",
        "\n",
        "    # get filename of each image\n",
        "    image_file = get_filename(captions_file['images'])\n",
        "    del captions_file  # free memory\n",
        "\n",
        "    for image in image_categories:\n",
        "        images_data[image] = {\n",
        "            'file_name': image_file[image],\n",
        "            'categories': image_categories[image],\n",
        "            'captions': image_captions[image]\n",
        "        }\n",
        "    return images_data\n",
        "\n",
        "\n",
        "def map_category_id(category_map):\n",
        "    \"\"\" Assign an ID to each category \"\"\"\n",
        "    category_id = {}\n",
        "    id_category = {}\n",
        "    counter = 0\n",
        "    for category in category_map:\n",
        "        category_id[category['name']] = counter\n",
        "        id_category[counter] = category['name']\n",
        "        counter += 1\n",
        "    return category_id, id_category\n",
        "\n",
        "\n",
        "def save_data(images_data_train, images_data_val, category_id, id_category, root_dir):\n",
        "    \"\"\" Save parsed dataset \"\"\"\n",
        "    print('\\nSaving raw dataset...')\n",
        "    \n",
        "    coco_raw = {\n",
        "        'images_data_train': images_data_train,\n",
        "        'images_data_val': images_data_val,\n",
        "        'category_id': category_id,\n",
        "        'id_category': id_category\n",
        "    }\n",
        "\n",
        "    out_path = '{}/coco_raw.pickle'.format(root_dir)\n",
        "    pickle_out = open(out_path, 'wb')\n",
        "    pickle.dump(coco_raw, pickle_out)\n",
        "    pickle_out.close()\n",
        "\n",
        "    print('=============================================')\n",
        "    print('\\n Data saved to', out_path)\n",
        "\n",
        "\n",
        "if __name__ == '__main__':\n",
        "    parser = argparse.ArgumentParser(description='Parse MSCOCO dataset')\n",
        "    parser.add_argument(\n",
        "        '--root', default=os.path.dirname(os.path.abspath('__file__')),\n",
        "        help='Root directory containing the dataset folders'\n",
        "    )\n",
        "    args = parser.parse_args(args=[])\n",
        "\n",
        "    # get complete dataset\n",
        "    images_data_train = parse_data('train', args.root)\n",
        "    images_data_val = parse_data('val', args.root)\n",
        "\n",
        "    # assign each category an id.\n",
        "    # we are not using the default ids given in the dataset because\n",
        "    # the id ranges are not continuous.\n",
        "    print('Mapping categories to IDs...')\n",
        "    categories_file = json.load(open('{}/annotations/instances_train2017.json'.format(args.root), 'r'))\n",
        "    category_id, id_category = map_category_id(categories_file['categories'])\n",
        "    del categories_file  # free memory\n",
        "    print('=============================================')\n",
        "\n",
        "    # save parsed coco dataset\n",
        "    save_data(images_data_train, images_data_val, category_id, id_category, args.root)"
      ],
      "metadata": {
        "colab": {
          "base_uri": "https://localhost:8080/"
        },
        "id": "Kj4-658mkLO9",
        "outputId": "789261c0-7cc6-438a-fb1f-cf0853ac8112"
      },
      "execution_count": 9,
      "outputs": [
        {
          "output_type": "stream",
          "name": "stdout",
          "text": [
            "Loading instances...\n",
            "=============================================\n",
            "Loading annotations...\n",
            "=============================================\n",
            "Loading instances...\n",
            "=============================================\n",
            "Loading annotations...\n",
            "=============================================\n",
            "Mapping categories to IDs...\n",
            "=============================================\n",
            "\n",
            "Saving raw dataset...\n",
            "=============================================\n",
            "\n",
            " Data saved to /content/coco_raw.pickle\n"
          ]
        }
      ]
    }
  ]
}